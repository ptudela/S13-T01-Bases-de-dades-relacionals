{
 "cells": [
  {
   "cell_type": "markdown",
   "id": "cc9f919f",
   "metadata": {},
   "source": [
    "# Bases de dades relacionals"
   ]
  },
  {
   "cell_type": "markdown",
   "id": "0af856ca",
   "metadata": {},
   "source": [
    "# S13 T01: Bases de dades relacionals"
   ]
  },
  {
   "cell_type": "markdown",
   "id": "13060d31",
   "metadata": {},
   "source": [
    "_Recursos_\n",
    "Entenent bases de dades relacionals https://www.digitalocean.com/community/tutorials/understanding-relational-databases\n",
    "\n",
    "Model entitat-relació i model relacional i normalització https://ioc.xtec.cat/materials/FP/Recursos/fp_dam_m02_/web/fp_dam_m02_htmlindex/WebContent/u2/a1/continguts.html\n",
    "\n",
    "https://ioc.xtec.cat/materials/FP/Recursos/fp_dam_m02_/web/fp_dam_m02_htmlindex/media/fp_dam_m02_u3_pdfindex.pdf\n",
    "\n",
    "__2- SQL__\n",
    "Introducció SQL https://www.w3schools.com/sql/ \n",
    "\n",
    "Integració de Python amb MySQL https://www.w3schools.com/python/python_mysql_getstarted.asp \n",
    "\n",
    "Bases de dades relacionals amb MySQL https://cibernarium.barcelonactiva.cat/web/guest/ficha-actividad?activityId=997820 \n",
    "\n",
    "Tutorial complet MySQL https://dev.mysql.com/doc/mysql-getting-started/en/ \n",
    "\n",
    "__Recursos complementaris__\n",
    "Avaluació\n",
    "\n",
    "1.       Familiaritza’t amb els exemples de W3Schools (https://www.w3schools.com/sql/sql_examples.asp)\n",
    "\n",
    "2.       Resol els exercicis de W3Schools (https://www.w3schools.com/sql/sql_exercises.asp )\n",
    "\n",
    "3.       Explora els següents exercicis i realitza’n els que creguis convenients (https://www.hackerrank.com/domains/sql )\n",
    "\n",
    "4.       (Avançat) Completa els següents exercicis (https://towardsdatascience.com/twenty-five-sql-practice-exercises-5fc791e24082 )\n",
    "\n"
   ]
  },
  {
   "cell_type": "markdown",
   "id": "9fb54e03",
   "metadata": {},
   "source": [
    "# S13 T01: Bases de dades relacionals"
   ]
  },
  {
   "cell_type": "markdown",
   "id": "997313fc",
   "metadata": {},
   "source": [
    "Nivell 1. Exercici 1. Crea una base relacional d’exemple utilitzant un document de text o a mà. Dissenya-la perquè contingui les següents taules, i estableix les relacions que consideris necessàries entre elles:\n",
    "\n",
    "-\tTaula de compres (transaccions)\n",
    "\n",
    "-\tTaula d’establiments\n",
    "\n",
    "-\tTaula de treballadors\n",
    "\n",
    "-\tTaula de clients\n",
    "\n",
    "-\tTaula de productes\n",
    "\n",
    "-\tTaula de tipus de productes\n",
    "\n",
    "Defineix les propietats de les relacions (1:1, 1:n, n:n), i crea algunes de les variables que podrien contenir, per exemple:\n",
    "\n",
    "\n",
    "Taula d’establiments\n",
    "\n",
    "-\tIDestabliment (unique key)\n",
    "\n",
    "-\tNom\n",
    "\n",
    "-\tLocalització\n",
    "\n",
    "-\tSuperfície\n"
   ]
  },
  {
   "cell_type": "markdown",
   "id": "8cee0950",
   "metadata": {},
   "source": [
    "## Nivell 2. Exercici 2. Utilitza un programa de creació de diagrames entitat-relació com http://dia-installer.de per crear el diagrama."
   ]
  },
  {
   "cell_type": "markdown",
   "id": "fce42a99",
   "metadata": {},
   "source": [
    "![](Diagram.png)"
   ]
  },
  {
   "cell_type": "markdown",
   "id": "309d0d78",
   "metadata": {},
   "source": [
    "## Nivell 3. Exercici 3. Utilitza el Workbench de MySQL per crear un model relacional. "
   ]
  },
  {
   "cell_type": "markdown",
   "id": "f867e1c6",
   "metadata": {},
   "source": [
    "![](schema1.png)"
   ]
  },
  {
   "cell_type": "code",
   "execution_count": null,
   "id": "bb1227ca",
   "metadata": {},
   "outputs": [],
   "source": []
  }
 ],
 "metadata": {
  "kernelspec": {
   "display_name": "Python 3",
   "language": "python",
   "name": "python3"
  },
  "language_info": {
   "codemirror_mode": {
    "name": "ipython",
    "version": 3
   },
   "file_extension": ".py",
   "mimetype": "text/x-python",
   "name": "python",
   "nbconvert_exporter": "python",
   "pygments_lexer": "ipython3",
   "version": "3.8.8"
  }
 },
 "nbformat": 4,
 "nbformat_minor": 5
}
